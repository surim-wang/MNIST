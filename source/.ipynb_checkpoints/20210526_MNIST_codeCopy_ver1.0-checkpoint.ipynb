{
 "cells": [
  {
   "cell_type": "markdown",
   "metadata": {},
   "source": [
    "# https://www.kaggle.com/yassineghouzam 코드 분석하기 "
   ]
  },
  {
   "cell_type": "code",
   "execution_count": 22,
   "metadata": {},
   "outputs": [],
   "source": [
    "import pandas as pd\n",
    "import numpy as np\n",
    "import matplotlib.pyplot as plt\n",
    "import matplotlib.image as mpimg\n",
    "import seaborn as sns\n",
    "%matplotlib inline\n",
    "\n",
    "np.random.seed(2)\n",
    "\n",
    "from sklearn.model_selection import train_test_split\n",
    "from sklearn.metrics import confusion_matrix\n",
    "import itertools\n",
    "\n",
    "from keras.utils.np_utils import to_categorical # convert to one-hot-encoding\n",
    "from keras.models import Sequential\n",
    "from keras.layers import Dense, Dropout, Flatten, Conv2D, MaxPool2D\n",
    "from keras.optimizers import RMSprop\n",
    "from keras.preprocessing.image import ImageDataGenerator\n",
    "from keras.callbacks import ReduceLROnPlateau\n",
    "\n",
    "sns.set(style='white', context='notebook', palette='deep')"
   ]
  },
  {
   "cell_type": "code",
   "execution_count": 23,
   "metadata": {},
   "outputs": [],
   "source": [
    "#%% Load the data\n",
    "train = pd.read_csv(\"../data/train.csv\")\n",
    "test = pd.read_csv(\"../data/test.csv\")\n",
    "type(test)\n",
    "# test의 구조 살펴보기\n",
    "test.shape \n",
    "# (28000, 784)의 결과가 나온다. \n",
    "# 총 28000개의 숫자 데이터가 있다는 말이다.\n",
    "# 784를 28로 나누면 28이 나오는데 이는 가로*세로 픽셀이 28*28 사이즈인 숫자 데이터가 있다는 말이다.\n",
    "\n",
    "visual = test.iloc[252:280,252:280] # 이렇게 해서는 숫자를 알수가 없다. 리셰잎을 해서 한줄로 늘어진 데이터를 이차원 데이터로 바꾸어야 한다.\n",
    "visual.to_csv('../data/visual.csv')"
   ]
  },
  {
   "cell_type": "code",
   "execution_count": 24,
   "metadata": {},
   "outputs": [
    {
     "data": {
      "text/plain": [
       "count       784\n",
       "unique        1\n",
       "top       False\n",
       "freq        784\n",
       "dtype: object"
      ]
     },
     "execution_count": 24,
     "metadata": {},
     "output_type": "execute_result"
    },
    {
     "data": {
      "image/png": "[encoded data removed]",
      "text/plain": [
       "<Figure size 432x288 with 1 Axes>"
      ]
     },
     "metadata": {},
     "output_type": "display_data"
    }
   ],
   "source": [
    "import cv2\n",
    "\n",
    "def drawing_number(row):\n",
    "    visual_line = train.iloc[row,1:]\n",
    "    visual_line  = np.array(visual_line )\n",
    "    result = np.reshape(visual_line,(28,28), order='C')\n",
    "    cv2.imwrite('../image/testResult/{}.jpg'.format(row), result) # 파일 경로 & 명, 파일\n",
    "\n",
    "for i in range(0,100):\n",
    "    drawing_number(i)\n",
    "    \n",
    "#%%\n",
    "Y_train = train[\"label\"]\n",
    "\n",
    "# Drop 'label' column\n",
    "X_train = train.drop(labels = [\"label\"],axis = 1) \n",
    "\n",
    "# free some space\n",
    "del train \n",
    "\n",
    "g = sns.countplot(Y_train)\n",
    "#그래프가 그려져야하는데 현재의 가상 환경에서는 그려지지 않는다. 우선은 진행한다.\n",
    "Y_train.value_counts() #0부터 9까지의 숫자 데이터가 대략 4000개씩은 있다.\n",
    "\n",
    "#### how to make the train data?\n",
    "#%%\n",
    "# Check the data\n",
    "X_train.isnull().any().describe() \n",
    "#isnull(): null값이 있으면 True를 아니면 false를 반환한다.\n",
    "#any(): True 값이 하나라도 있으면 트루를 아니면 false를 반환한다.\n",
    "\n",
    "\n",
    "mydf = pd.DataFrame(data=[[1,2,np.nan],[1,np.nan,3],[1,2,np.nan]])\n",
    "type(mydf) #df 타입\n",
    "type(mydf[0]) #1열은 Series 타입\n",
    "mydf[0] # df안에 들어있는 타입은 int64 \n",
    "type(mydf.isnull().any()) #Series 타입 \n",
    "mydf\n",
    "mydf.isnull()\n",
    "mydf.isnull().any() # 각 열에 True값이 있으면 True로 반환한다.\n",
    "mydf.isnull().any().describe()\n",
    "#describe(): 시리즈의 경우 통계량을 요약해 보여주며, 데이터프레임의 경우 열에대한 요약을 보여준다.\n",
    "#count: 열의 수\n",
    "#unique: 2가 나오는데 true와 false가 있다는 뜻\n",
    "#top:\n",
    "#freq: 열의 수\n",
    "#dtype: >??? 왜 object 타입이 나올까?\n",
    "s = pd.Series([1,2,3,4,5, np.nan],[1,2,3,4,5, np.nan])\n",
    "s.describe()#top은 a가 나온다. 가장 작은값이나오네??? 그럼 왜 false\n",
    "df = pd.DataFrame([1,2,3,4,5, np.nan],[1,2,3,4,5, np.nan])\n",
    "df.describe() # 이렇게 구하면 통계값이 나옴\n",
    "df.isnull().any().describe() # 이렇게하면 탑값이 나옴 # top은 true\n",
    "# top 값은 1열에 np.nan이 있으면 isnull이 true이기 때문에 any()가 true를 반환하고 \n",
    "# 2열에 np.nan이 없으면 false를 결과적으로 출력한다.\n",
    "# 결론 1열 true(=1), 2열 false(=0) 이기때문에 top 값은 true를 반환한다.\n",
    "#%%\n",
    "test.isnull().any().describe()"
   ]
  },
  {
   "cell_type": "code",
   "execution_count": 25,
   "metadata": {},
   "outputs": [
    {
     "data": {
      "text/plain": [
       "array([0., 0., 0., 1., 0.], dtype=float32)"
      ]
     },
     "execution_count": 25,
     "metadata": {},
     "output_type": "execute_result"
    }
   ],
   "source": [
    "#%%\n",
    "# Normalize the data\n",
    "X_train = X_train / 255.0\n",
    "test = test / 255.0\n",
    "\n",
    "#%%\n",
    "# Reshape image in 3 dimensions (height = 28px, width = 28px , canal = 1)\n",
    "X_train = X_train.values.reshape(-1,28,28,1) # (42000, 784) to (4200,28,28,1)형태로 변환한다.\n",
    "# (-1,28,28,1)의 의미\n",
    "# -1 몇인지는 모르나 모든 행을 다 한다는 뜻인듯 여기서는 42000개\n",
    "# 784의 한열로 된 값을 28, 28 행과 열의 픽셀로 지정 \n",
    "# 마지막 1: 높이는 1이라는 뜻인듯. 3차원 데이터 인듯,\n",
    "test = test.values.reshape(-1,28,28,1)\n",
    "# type(X_train.values) : numpy.ndarray : row- level method???\n",
    "\n",
    "#%%\n",
    "# Encode labels to one hot vectors (ex : 2 -> [0,0,1,0,0,0,0,0,0,0])\n",
    "Y_train = to_categorical(Y_train, num_classes = 10)\n",
    "#(42000,) to (42000,10)으로 구조 변경 됨. 왜 하는걸까? \n",
    "# 10진법을 2진법으로 : 어떤 성능차이가 생기는건가?\n",
    "# 문자를 이진 숫자로 바꿔줘야 컴퓨터가 이해하는데 도움이 되기때문.\n",
    "from keras.utils import np_utils\n",
    "np_utils.to_categorical(2)\n",
    "np_utils.to_categorical(2,3)\n",
    "np_utils.to_categorical(2,5)\n",
    "np_utils.to_categorical(3,5) #(1이 들어갈 위치, 전체 크기)\n"
   ]
  },
  {
   "cell_type": "code",
   "execution_count": 26,
   "metadata": {},
   "outputs": [
    {
     "data": {
      "image/png": "[encoded data removed]",
      "text/plain": [
       "<Figure size 432x288 with 1 Axes>"
      ]
     },
     "metadata": {},
     "output_type": "display_data"
    }
   ],
   "source": [
    "#%%\n",
    "# Set the random seed\n",
    "random_seed = 2 #난수를 예측 할 수 있게 시드를 고정시킨다.\n",
    "\n",
    "#%%\n",
    "# Split the train and the validation set for the fitting\n",
    "X_train, X_val, Y_train, Y_val = train_test_split(X_train, Y_train, test_size = 0.1, random_state=random_seed)\n",
    "# 훈련데이터와 검증데이터로 나눈다.\n",
    "#%%\n",
    "# Some examples\n",
    "g = plt.imshow(X_train[0][:,:,0])"
   ]
  },
  {
   "cell_type": "code",
   "execution_count": 27,
   "metadata": {},
   "outputs": [],
   "source": [
    "#%%\n",
    "# Set the CNN model \n",
    "# my CNN architechture is In -> [[Conv2D->relu]*2 -> MaxPool2D -> Dropout]*2 -> Flatten -> Dense -> Dropout -> Out\n",
    "\n",
    "model = Sequential()\n",
    "\n",
    "model.add(Conv2D(filters = 32, kernel_size = (5,5),padding = 'Same', \n",
    "                 activation ='relu', input_shape = (28,28,1)))\n",
    "model.add(Conv2D(filters = 32, kernel_size = (5,5),padding = 'Same', \n",
    "                 activation ='relu'))\n",
    "model.add(MaxPool2D(pool_size=(2,2)))\n",
    "model.add(Dropout(0.25))\n",
    "\n",
    "\n",
    "model.add(Conv2D(filters = 64, kernel_size = (3,3),padding = 'Same', \n",
    "                 activation ='relu'))\n",
    "model.add(Conv2D(filters = 64, kernel_size = (3,3),padding = 'Same', \n",
    "                 activation ='relu'))\n",
    "model.add(MaxPool2D(pool_size=(2,2), strides=(2,2)))\n",
    "model.add(Dropout(0.25))\n",
    "\n",
    "\n",
    "model.add(Flatten())\n",
    "model.add(Dense(256, activation = \"relu\"))\n",
    "model.add(Dropout(0.5))\n",
    "model.add(Dense(10, activation = \"softmax\"))\n",
    "\n",
    "#%%\n",
    "# Define the optimizer\n",
    "optimizer = RMSprop(lr=0.001, rho=0.9, epsilon=1e-08, decay=0.0)\n",
    "\n",
    "#%%\n",
    "# Compile the model\n",
    "model.compile(optimizer = optimizer , loss = \"categorical_crossentropy\", metrics=[\"accuracy\"])"
   ]
  },
  {
   "cell_type": "code",
   "execution_count": 28,
   "metadata": {},
   "outputs": [],
   "source": [
    "#%%\n",
    "# Set a learning rate annealer\n",
    "learning_rate_reduction = ReduceLROnPlateau(monitor='val_acc', \n",
    "                                            patience=3, \n",
    "                                            verbose=1, \n",
    "                                            factor=0.5, \n",
    "                                            min_lr=0.00001)"
   ]
  },
  {
   "cell_type": "code",
   "execution_count": 29,
   "metadata": {},
   "outputs": [],
   "source": [
    "#%%\n",
    "epochs = 10 # Turn epochs to 30 to get 0.9967 accuracy\n",
    "batch_size = 86"
   ]
  },
  {
   "cell_type": "code",
   "execution_count": 30,
   "metadata": {},
   "outputs": [],
   "source": [
    "#%%\n",
    "# Without data augmentation i obtained an accuracy of 0.98114\n",
    "#history = model.fit(X_train, Y_train, batch_size = batch_size, epochs = epochs, \n",
    "#          validation_data = (X_val, Y_val), verbose = 2)\n",
    "\n"
   ]
  },
  {
   "cell_type": "code",
   "execution_count": 31,
   "metadata": {},
   "outputs": [],
   "source": [
    "#%%\n",
    "datagen = ImageDataGenerator(\n",
    "        featurewise_center=False,  # set input mean to 0 over the dataset\n",
    "        samplewise_center=False,  # set each sample mean to 0\n",
    "        featurewise_std_normalization=False,  # divide inputs by std of the dataset\n",
    "        samplewise_std_normalization=False,  # divide each input by its std\n",
    "        zca_whitening=False,  # apply ZCA whitening\n",
    "        rotation_range=10,  # randomly rotate images in the range (degrees, 0 to 180)\n",
    "        zoom_range = 0.1, # Randomly zoom image \n",
    "        width_shift_range=0.1,  # randomly shift images horizontally (fraction of total width)\n",
    "        height_shift_range=0.1,  # randomly shift images vertically (fraction of total height)\n",
    "        horizontal_flip=False,  # randomly flip images\n",
    "        vertical_flip=False)  # randomly flip images\n",
    "\n",
    "\n",
    "datagen.fit(X_train)"
   ]
  },
  {
   "cell_type": "code",
   "execution_count": 32,
   "metadata": {},
   "outputs": [
    {
     "name": "stdout",
     "output_type": "stream",
     "text": [
      "Epoch 1/10\n",
      "439/439 [==============================] - 122s 278ms/step - loss: 0.4187 - accuracy: 0.8657 - val_loss: 0.0608 - val_accuracy: 0.9800\n",
      "Epoch 2/10\n"
     ]
    },
    {
     "name": "stderr",
     "output_type": "stream",
     "text": [
      "C:\\Users\\SURIMWANG\\Anaconda3\\lib\\site-packages\\keras\\callbacks\\callbacks.py:1042: RuntimeWarning: Reduce LR on plateau conditioned on metric `val_acc` which is not available. Available metrics are: val_loss,val_accuracy,loss,accuracy,lr\n",
      "  (self.monitor, ','.join(list(logs.keys()))), RuntimeWarning\n"
     ]
    },
    {
     "name": "stdout",
     "output_type": "stream",
     "text": [
      "439/439 [==============================] - 132s 300ms/step - loss: 0.1313 - accuracy: 0.9608 - val_loss: 0.0489 - val_accuracy: 0.9862\n",
      "Epoch 3/10\n",
      "439/439 [==============================] - 136s 309ms/step - loss: 0.0956 - accuracy: 0.9708 - val_loss: 0.0331 - val_accuracy: 0.9910\n",
      "Epoch 4/10\n",
      "439/439 [==============================] - 149s 340ms/step - loss: 0.0820 - accuracy: 0.9766 - val_loss: 0.0261 - val_accuracy: 0.9931\n",
      "Epoch 5/10\n",
      "439/439 [==============================] - 141s 321ms/step - loss: 0.0729 - accuracy: 0.9782 - val_loss: 0.0249 - val_accuracy: 0.9933\n",
      "Epoch 6/10\n",
      "439/439 [==============================] - 143s 327ms/step - loss: 0.0693 - accuracy: 0.9802 - val_loss: 0.0293 - val_accuracy: 0.9900\n",
      "Epoch 7/10\n",
      "439/439 [==============================] - 145s 330ms/step - loss: 0.0646 - accuracy: 0.9815 - val_loss: 0.0268 - val_accuracy: 0.9917\n",
      "Epoch 8/10\n",
      "439/439 [==============================] - 127s 289ms/step - loss: 0.0625 - accuracy: 0.9819 - val_loss: 0.0248 - val_accuracy: 0.9933\n",
      "Epoch 9/10\n",
      "439/439 [==============================] - 141s 321ms/step - loss: 0.0600 - accuracy: 0.9819 - val_loss: 0.0262 - val_accuracy: 0.9921\n",
      "Epoch 10/10\n",
      "439/439 [==============================] - 129s 293ms/step - loss: 0.0623 - accuracy: 0.9824 - val_loss: 0.0234 - val_accuracy: 0.9917\n"
     ]
    },
    {
     "data": {
      "text/plain": [
       "{'val_loss': [0.06078097727393643,\n",
       "  0.04890108017954931,\n",
       "  0.03311684310610872,\n",
       "  0.026120325998081603,\n",
       "  0.024851277149310114,\n",
       "  0.02930620882479984,\n",
       "  0.02680657151662412,\n",
       "  0.0247613011815563,\n",
       "  0.026236146171116463,\n",
       "  0.023413363118570053],\n",
       " 'val_accuracy': [0.9800000190734863,\n",
       "  0.9861904978752136,\n",
       "  0.9909523725509644,\n",
       "  0.9930952191352844,\n",
       "  0.9933333396911621,\n",
       "  0.9900000095367432,\n",
       "  0.9916666746139526,\n",
       "  0.9933333396911621,\n",
       "  0.9921428561210632,\n",
       "  0.9916666746139526],\n",
       " 'loss': [0.418972812487489,\n",
       "  0.1311556477754156,\n",
       "  0.09553390592666078,\n",
       "  0.08198722029402544,\n",
       "  0.07280783104729814,\n",
       "  0.06937983030574178,\n",
       "  0.06450304412742318,\n",
       "  0.06234878436379383,\n",
       "  0.06004869867267811,\n",
       "  0.06239625036629364],\n",
       " 'accuracy': [0.86572623,\n",
       "  0.9608103,\n",
       "  0.9708331,\n",
       "  0.9765604,\n",
       "  0.97817785,\n",
       "  0.9801665,\n",
       "  0.9815453,\n",
       "  0.98189,\n",
       "  0.98189,\n",
       "  0.9823938],\n",
       " 'lr': [0.001, 0.001, 0.001, 0.001, 0.001, 0.001, 0.001, 0.001, 0.001, 0.001]}"
      ]
     },
     "execution_count": 32,
     "metadata": {},
     "output_type": "execute_result"
    }
   ],
   "source": [
    "#%%\n",
    "# Fit the model\n",
    "history = model.fit_generator(datagen.flow(X_train,Y_train, batch_size=batch_size),\n",
    "                              epochs = epochs, validation_data = (X_val,Y_val),\n",
    "                              verbose = 1, steps_per_epoch=X_train.shape[0] // batch_size\n",
    "                              , callbacks=[learning_rate_reduction])\n",
    "history.history\n"
   ]
  },
  {
   "cell_type": "code",
   "execution_count": 12,
   "metadata": {},
   "outputs": [
    {
     "data": {
      "image/png": "[encoded data removed]",
      "text/plain": [
       "<Figure size 432x288 with 2 Axes>"
      ]
     },
     "metadata": {
      "needs_background": "light"
     },
     "output_type": "display_data"
    }
   ],
   "source": [
    "#%%\n",
    "# Plot the loss and accuracy curves for training and validation \n",
    "fig, ax = plt.subplots(2,1)\n",
    "ax[0].plot(history.history['loss'], color='b', label=\"Training loss\")\n",
    "ax[0].plot(history.history['val_loss'], color='r', label=\"validation loss\",axes =ax[0])\n",
    "legend = ax[0].legend(loc='best', shadow=True)\n",
    "\n",
    "ax[1].plot(history.history['accuracy'], color='b', label=\"Training accuracy\")\n",
    "ax[1].plot(history.history['val_accuracy'], color='r',label=\"Validation accuracy\")\n",
    "legend = ax[1].legend(loc='best', shadow=True)"
   ]
  },
  {
   "cell_type": "code",
   "execution_count": 13,
   "metadata": {},
   "outputs": [
    {
     "data": {
      "image/png": "[encoded data removed]",
      "text/plain": [
       "<Figure size 432x288 with 2 Axes>"
      ]
     },
     "metadata": {
      "needs_background": "light"
     },
     "output_type": "display_data"
    }
   ],
   "source": [
    "#%%\n",
    "# Look at confusion matrix \n",
    "\n",
    "def plot_confusion_matrix(cm, classes,\n",
    "                          normalize=False,\n",
    "                          title='Confusion matrix',\n",
    "                          cmap=plt.cm.Blues):\n",
    "    \"\"\"\n",
    "    This function prints and plots the confusion matrix.\n",
    "    Normalization can be applied by setting `normalize=True`.\n",
    "    \"\"\"\n",
    "    plt.imshow(cm, interpolation='nearest', cmap=cmap)\n",
    "    plt.title(title)\n",
    "    plt.colorbar()\n",
    "    tick_marks = np.arange(len(classes))\n",
    "    plt.xticks(tick_marks, classes, rotation=45)\n",
    "    plt.yticks(tick_marks, classes)\n",
    "\n",
    "    if normalize:\n",
    "        cm = cm.astype('float') / cm.sum(axis=1)[:, np.newaxis]\n",
    "\n",
    "    thresh = cm.max() / 2.\n",
    "    for i, j in itertools.product(range(cm.shape[0]), range(cm.shape[1])):\n",
    "        plt.text(j, i, cm[i, j],\n",
    "                 horizontalalignment=\"center\",\n",
    "                 color=\"white\" if cm[i, j] > thresh else \"black\")\n",
    "\n",
    "    plt.tight_layout()\n",
    "    plt.ylabel('True label')\n",
    "    plt.xlabel('Predicted label')\n",
    "\n",
    "# Predict the values from the validation dataset\n",
    "Y_pred = model.predict(X_val)\n",
    "# Convert predictions classes to one hot vectors \n",
    "Y_pred_classes = np.argmax(Y_pred,axis = 1) \n",
    "# Convert validation observations to one hot vectors\n",
    "Y_true = np.argmax(Y_val,axis = 1) \n",
    "# compute the confusion matrix\n",
    "confusion_mtx = confusion_matrix(Y_true, Y_pred_classes) \n",
    "# plot the confusion matrix\n",
    "plot_confusion_matrix(confusion_mtx, classes = range(10)) "
   ]
  },
  {
   "cell_type": "code",
   "execution_count": 14,
   "metadata": {},
   "outputs": [
    {
     "data": {
      "image/png": "[encoded data removed]",
      "text/plain": [
       "<Figure size 432x288 with 6 Axes>"
      ]
     },
     "metadata": {
      "needs_background": "light"
     },
     "output_type": "display_data"
    }
   ],
   "source": [
    "#%%\n",
    "# Display some error results \n",
    "\n",
    "# Errors are difference between predicted labels and true labels\n",
    "errors = (Y_pred_classes - Y_true != 0)\n",
    "\n",
    "Y_pred_classes_errors = Y_pred_classes[errors]\n",
    "Y_pred_errors = Y_pred[errors]\n",
    "Y_true_errors = Y_true[errors]\n",
    "X_val_errors = X_val[errors]\n",
    "\n",
    "def display_errors(errors_index,img_errors,pred_errors, obs_errors):\n",
    "    \"\"\" This function shows 6 images with their predicted and real labels\"\"\"\n",
    "    n = 0\n",
    "    nrows = 2\n",
    "    ncols = 3\n",
    "    fig, ax = plt.subplots(nrows,ncols,sharex=True,sharey=True)\n",
    "    for row in range(nrows):\n",
    "        for col in range(ncols):\n",
    "            error = errors_index[n]\n",
    "            ax[row,col].imshow((img_errors[error]).reshape((28,28)))\n",
    "            ax[row,col].set_title(\"Predicted label :{}\\nTrue label :{}\".format(pred_errors[error],obs_errors[error]))\n",
    "            n += 1\n",
    "\n",
    "# Probabilities of the wrong predicted numbers\n",
    "Y_pred_errors_prob = np.max(Y_pred_errors,axis = 1)\n",
    "\n",
    "# Predicted probabilities of the true values in the error set\n",
    "true_prob_errors = np.diagonal(np.take(Y_pred_errors, Y_true_errors, axis=1))\n",
    "\n",
    "# Difference between the probability of the predicted label and the true label\n",
    "delta_pred_true_errors = Y_pred_errors_prob - true_prob_errors\n",
    "\n",
    "# Sorted list of the delta prob errors\n",
    "sorted_dela_errors = np.argsort(delta_pred_true_errors)\n",
    "\n",
    "# Top 6 errors \n",
    "most_important_errors = sorted_dela_errors[-6:]\n",
    "\n",
    "# Show the top 6 errors\n",
    "display_errors(most_important_errors, X_val_errors, Y_pred_classes_errors, Y_true_errors)"
   ]
  },
  {
   "cell_type": "code",
   "execution_count": 15,
   "metadata": {},
   "outputs": [],
   "source": [
    "#%%\n",
    "# predict results\n",
    "results = model.predict(test)\n",
    "\n",
    "# select the indix with the maximum probability\n",
    "results = np.argmax(results,axis = 1)\n",
    "\n",
    "results = pd.Series(results,name=\"Label\")"
   ]
  },
  {
   "cell_type": "code",
   "execution_count": 16,
   "metadata": {},
   "outputs": [
    {
     "data": {
      "text/plain": [
       "0        2\n",
       "1        0\n",
       "2        9\n",
       "3        0\n",
       "4        3\n",
       "        ..\n",
       "27995    9\n",
       "27996    7\n",
       "27997    3\n",
       "27998    9\n",
       "27999    2\n",
       "Name: Label, Length: 28000, dtype: int64"
      ]
     },
     "execution_count": 16,
     "metadata": {},
     "output_type": "execute_result"
    }
   ],
   "source": [
    "results"
   ]
  },
  {
   "cell_type": "code",
   "execution_count": null,
   "metadata": {},
   "outputs": [],
   "source": [
    "#%%\n",
    "submission = pd.concat([pd.Series(range(1,28001),name = \"ImageId\"),results],axis = 1)\n",
    "\n",
    "submission.to_csv(\"cnn_mnist_datagen.csv\",index=False)"
   ]
  }
 ],
 "metadata": {
  "kernelspec": {
   "display_name": "Python 3",
   "language": "python",
   "name": "python3"
  },
  "language_info": {
   "codemirror_mode": {
    "name": "ipython",
    "version": 3
   },
   "file_extension": ".py",
   "mimetype": "text/x-python",
   "name": "python",
   "nbconvert_exporter": "python",
   "pygments_lexer": "ipython3",
   "version": "3.7.4"
  }
 },
 "nbformat": 4,
 "nbformat_minor": 2
}
